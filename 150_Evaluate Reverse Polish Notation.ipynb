{
 "cells": [
  {
   "cell_type": "code",
   "execution_count": null,
   "id": "64ef61f9",
   "metadata": {},
   "outputs": [],
   "source": [
    "class Solution:\n",
    "    def evalRPN(self, tokens: List[str]) -> int:\n",
    "        stk = []\n",
    "        if len(tokens) != 1:\n",
    "            for t in tokens:\n",
    "                if t != '+' and t != '-' and t != '*' and t != '/':\n",
    "                    stk.append(t)\n",
    "                else:\n",
    "                    a = int(stk[-1])\n",
    "                    b = int(stk[-2])\n",
    "                    if t == '+':\n",
    "                        new = a + b\n",
    "                    elif t == '-':\n",
    "                        new = b - a\n",
    "                    elif t == '*':\n",
    "                        new = b * a\n",
    "                    elif t == '/':\n",
    "                        new = b / a\n",
    "                    del stk[-2]\n",
    "                    del stk[-1]\n",
    "                    stk.append(new)\n",
    "            return int(stk[0])\n",
    "        else:\n",
    "            return int(tokens[0])"
   ]
  }
 ],
 "metadata": {
  "kernelspec": {
   "display_name": "Python 3 (ipykernel)",
   "language": "python",
   "name": "python3"
  },
  "language_info": {
   "codemirror_mode": {
    "name": "ipython",
    "version": 3
   },
   "file_extension": ".py",
   "mimetype": "text/x-python",
   "name": "python",
   "nbconvert_exporter": "python",
   "pygments_lexer": "ipython3",
   "version": "3.9.7"
  }
 },
 "nbformat": 4,
 "nbformat_minor": 5
}
