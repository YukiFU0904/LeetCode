{
 "cells": [
  {
   "cell_type": "code",
   "execution_count": null,
   "id": "47225a24",
   "metadata": {},
   "outputs": [],
   "source": [
    "class MyStack:\n",
    "\n",
    "    def __init__(self):\n",
    "        self.q = []\n",
    "        self.topE = None\n",
    "\n",
    "    def push(self, x: int) -> None:\n",
    "        self.q.append(x)\n",
    "        self.topE = x\n",
    "\n",
    "    def pop(self) -> int:\n",
    "        queue = self.q[-1]\n",
    "        del self.q[-1]\n",
    "        if self.q:\n",
    "            self.topE = self.q[-1]\n",
    "        return queue\n",
    "        \n",
    "    def top(self) -> int:\n",
    "        return self.topE\n",
    "        \n",
    "    def empty(self) -> bool:\n",
    "        return self.q == []\n",
    "        \n",
    "\n",
    "\n",
    "# Your MyStack object will be instantiated and called as such:\n",
    "# obj = MyStack()\n",
    "# obj.push(x)\n",
    "# param_2 = obj.pop()\n",
    "# param_3 = obj.top()\n",
    "# param_4 = obj.empty()"
   ]
  }
 ],
 "metadata": {
  "kernelspec": {
   "display_name": "Python 3 (ipykernel)",
   "language": "python",
   "name": "python3"
  },
  "language_info": {
   "codemirror_mode": {
    "name": "ipython",
    "version": 3
   },
   "file_extension": ".py",
   "mimetype": "text/x-python",
   "name": "python",
   "nbconvert_exporter": "python",
   "pygments_lexer": "ipython3",
   "version": "3.9.7"
  }
 },
 "nbformat": 4,
 "nbformat_minor": 5
}
