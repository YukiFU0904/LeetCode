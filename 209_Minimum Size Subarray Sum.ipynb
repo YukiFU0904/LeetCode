{
 "cells": [
  {
   "cell_type": "code",
   "execution_count": 62,
   "id": "1dafc830",
   "metadata": {},
   "outputs": [],
   "source": [
    "nums = [10,2,3]\n",
    "target = 6"
   ]
  },
  {
   "cell_type": "code",
   "execution_count": 64,
   "id": "8c71bbf6",
   "metadata": {
    "scrolled": true
   },
   "outputs": [
    {
     "name": "stdout",
     "output_type": "stream",
     "text": [
      "[10]\n",
      "1\n",
      "[2]\n",
      "[3]\n",
      "[10, 2]\n",
      "2\n",
      "[2, 3]\n",
      "[10, 2, 3]\n",
      "3\n"
     ]
    }
   ],
   "source": [
    "if sum(nums) < target:\n",
    "    iter = 0\n",
    "elif sum(nums) == target:\n",
    "    iter = len(nums)\n",
    "elif target in nums:\n",
    "    iter = 1\n",
    "else:\n",
    "    L = len(nums)\n",
    "    min_iter = float('inf')\n",
    "    for n in range(L):\n",
    "        all = 0\n",
    "        windows = n\n",
    "        while i < windows:\n",
    "            tail = n+windows+1\n",
    "            if tail <= L:\n",
    "                all = sum(nums[n:tail])\n",
    "                print(nums[n:tail])\n",
    "                   iter = i + 1\n",
    "                   print(iter)"
   ]
  },
  {
   "cell_type": "code",
   "execution_count": null,
   "id": "847a9def",
   "metadata": {},
   "outputs": [],
   "source": [
    "class Solution:\n",
    "    def minSubArrayLen(self, target: int, nums: List[int]) -> int:\n",
    "    \n",
    "        window_start = 0\n",
    "        min_size = float('inf')\n",
    "\n",
    "        # summation of subarray\n",
    "        summation = 0\n",
    "\n",
    "        # use sliding window to update min_size of of valid subarray\n",
    "        for window_end, number in enumerate(nums):\n",
    "\n",
    "            summation += number\n",
    "\n",
    "            while summation >= target:\n",
    "\n",
    "                # keep shrinking window size if summation is valid\n",
    "                min_size = min( min_size, window_end - window_start + 1)\n",
    "\n",
    "                # update subarray sum\n",
    "                summation -= nums[window_start]\n",
    "\n",
    "                window_start += 1\n",
    "\n",
    "\n",
    "        if min_size == float('inf'):\n",
    "\n",
    "            # no solution\n",
    "            return 0\n",
    "\n",
    "        else:\n",
    "\n",
    "            return min_size"
   ]
  }
 ],
 "metadata": {
  "kernelspec": {
   "display_name": "Python 3 (ipykernel)",
   "language": "python",
   "name": "python3"
  },
  "language_info": {
   "codemirror_mode": {
    "name": "ipython",
    "version": 3
   },
   "file_extension": ".py",
   "mimetype": "text/x-python",
   "name": "python",
   "nbconvert_exporter": "python",
   "pygments_lexer": "ipython3",
   "version": "3.9.7"
  }
 },
 "nbformat": 4,
 "nbformat_minor": 5
}
