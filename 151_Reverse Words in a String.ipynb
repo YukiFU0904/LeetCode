{
 "cells": [
  {
   "cell_type": "code",
   "execution_count": null,
   "id": "24ac2c64",
   "metadata": {},
   "outputs": [],
   "source": [
    "class Solution:\n",
    "    def reverseWords(self, s: str) -> str:\n",
    "        s = s.split()\n",
    "        result = s[::-1][0]\n",
    "        for i in range(len(s)-1):\n",
    "            result = result + \" \" + s[::-1][i+1]\n",
    "        return result"
   ]
  },
  {
   "cell_type": "code",
   "execution_count": null,
   "id": "8d4377d5",
   "metadata": {},
   "outputs": [],
   "source": [
    "# Highest voted result on Leetcode\n",
    "class Solution:\n",
    "    def reverseWords(self, s: str) -> str:\n",
    "        res = [] #hold the words of the string in reverse order\n",
    "        temp = \"\"\n",
    "        for c in s: \n",
    "            # Go through characters in s\n",
    "            if c != \" \": \n",
    "                # If the character is not a space, it is added to the current word being built up in temp\n",
    "                temp += c \n",
    "            elif temp != \"\":\n",
    "                # If the character is a space, the current word is complete, \n",
    "                # so it is added to the list of words res,temp is reset to an empty string to start building the next word.\n",
    "                res.append(temp)\n",
    "                temp = \"\"\n",
    "        if temp != \"\":\n",
    "            #After the loop finishes, there may be one more word in temp that hasn't been added to res yet. \n",
    "            # If this is the case, it is added to res.\n",
    "            res.append(temp)\n",
    "        return \" \".join(res[::-1]) \n",
    "            # return and join into a single str"
   ]
  }
 ],
 "metadata": {
  "kernelspec": {
   "display_name": "Python 3 (ipykernel)",
   "language": "python",
   "name": "python3"
  },
  "language_info": {
   "codemirror_mode": {
    "name": "ipython",
    "version": 3
   },
   "file_extension": ".py",
   "mimetype": "text/x-python",
   "name": "python",
   "nbconvert_exporter": "python",
   "pygments_lexer": "ipython3",
   "version": "3.9.7"
  }
 },
 "nbformat": 4,
 "nbformat_minor": 5
}
