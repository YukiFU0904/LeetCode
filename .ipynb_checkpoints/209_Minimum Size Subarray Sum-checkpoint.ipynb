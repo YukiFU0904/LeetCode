{
 "cells": [
  {
   "cell_type": "code",
   "execution_count": null,
   "id": "847a9def",
   "metadata": {},
   "outputs": [],
   "source": [
    "# Highest voted result on Leetcode\n",
    "class Solution:\n",
    "    def minSubArrayLen(self, target: int, nums: List[int]) -> int:\n",
    "    \n",
    "        window_start = 0\n",
    "        min_size = float('inf')\n",
    "\n",
    "        # summation of subarray\n",
    "        summation = 0\n",
    "\n",
    "        # use sliding window to update min_size of of valid subarray\n",
    "        for window_end, number in enumerate(nums):\n",
    "\n",
    "            summation += number\n",
    "\n",
    "            while summation >= target:\n",
    "\n",
    "                # keep shrinking window size if summation is valid\n",
    "                min_size = min( min_size, window_end - window_start + 1)\n",
    "\n",
    "                # update subarray sum\n",
    "                summation -= nums[window_start]\n",
    "\n",
    "                window_start += 1\n",
    "\n",
    "\n",
    "        if min_size == float('inf'):\n",
    "\n",
    "            # no solution\n",
    "            return 0\n",
    "\n",
    "        else:\n",
    "\n",
    "            return min_size"
   ]
  }
 ],
 "metadata": {
  "kernelspec": {
   "display_name": "Python 3 (ipykernel)",
   "language": "python",
   "name": "python3"
  },
  "language_info": {
   "codemirror_mode": {
    "name": "ipython",
    "version": 3
   },
   "file_extension": ".py",
   "mimetype": "text/x-python",
   "name": "python",
   "nbconvert_exporter": "python",
   "pygments_lexer": "ipython3",
   "version": "3.9.7"
  }
 },
 "nbformat": 4,
 "nbformat_minor": 5
}
