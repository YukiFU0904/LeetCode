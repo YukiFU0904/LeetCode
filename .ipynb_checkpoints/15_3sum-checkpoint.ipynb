{
 "cells": [
  {
   "cell_type": "code",
   "execution_count": 143,
   "id": "f0a06bbb",
   "metadata": {},
   "outputs": [],
   "source": [
    "nums = [3,0,-2,-1,1,2]"
   ]
  },
  {
   "cell_type": "code",
   "execution_count": 144,
   "id": "387e9b4c",
   "metadata": {},
   "outputs": [],
   "source": [
    "PosL = list()\n",
    "NegL = list()\n",
    "ZeroL = list()\n",
    "L = list()\n",
    "for i in nums:\n",
    "    if i > 0: \n",
    "        PosL.append(i)\n",
    "    elif i < 0: \n",
    "        NegL.append(i)\n",
    "    else: \n",
    "        ZeroL.append(i)"
   ]
  },
  {
   "cell_type": "code",
   "execution_count": 145,
   "id": "166324ba",
   "metadata": {},
   "outputs": [],
   "source": [
    "if len(ZeroL) >= 3 and [0,0,0] not in L: L.append([0,0,0])"
   ]
  },
  {
   "cell_type": "code",
   "execution_count": 146,
   "id": "c5405d45",
   "metadata": {},
   "outputs": [],
   "source": [
    "if len(ZeroL) >= 1:\n",
    "    for i in PosL: \n",
    "        if -i in NegL and [-i,0,i] not in L: L.append([-i,0,i])"
   ]
  },
  {
   "cell_type": "code",
   "execution_count": 147,
   "id": "1c2fbd74",
   "metadata": {},
   "outputs": [],
   "source": [
    "PosL_Sorted = list(i for i in PosL if i >= 2)\n",
    "if PosL_Sorted != []:\n",
    "    for target in PosL_Sorted:\n",
    "        seen = {}\n",
    "        for i,value in enumerate(NegL):\n",
    "            remaining = -target - value\n",
    "            if remaining in seen and sorted([remaining,value,target]) not in L:\n",
    "                L.append(sorted([remaining,value,target]))\n",
    "            seen[value] = i"
   ]
  },
  {
   "cell_type": "code",
   "execution_count": 148,
   "id": "90472786",
   "metadata": {},
   "outputs": [],
   "source": [
    "NegL_Sorted = list(i for i in NegL if i <= -2)\n",
    "if NegL_Sorted != []:\n",
    "    for target in NegL_Sorted:\n",
    "        seen = {}\n",
    "        for i,value in enumerate(PosL):\n",
    "            remaining = -target - value\n",
    "            if remaining in seen and sorted([remaining,value,target]) not in L:\n",
    "                L.append(sorted([remaining,value,target]))\n",
    "            seen[remaining] = i"
   ]
  },
  {
   "cell_type": "code",
   "execution_count": 149,
   "id": "bfb6d2f8",
   "metadata": {},
   "outputs": [
    {
     "data": {
      "text/plain": [
       "[[-1, 0, 1], [-2, 0, 2], [-2, -1, 3]]"
      ]
     },
     "execution_count": 149,
     "metadata": {},
     "output_type": "execute_result"
    }
   ],
   "source": [
    "L"
   ]
  },
  {
   "cell_type": "code",
   "execution_count": null,
   "id": "3f2e6f40",
   "metadata": {},
   "outputs": [],
   "source": [
    "# Highest voted result on Leetcode\n",
    "def threeSum(self, nums: List[int]) -> List[List[int]]:\n",
    "\n",
    "\tres = set()\n",
    "\n",
    "\t#1. Split nums into three lists: negative numbers, positive numbers, and zeros\n",
    "\tn, p, z = [], [], []\n",
    "\tfor num in nums:\n",
    "\t\tif num > 0:\n",
    "\t\t\tp.append(num)\n",
    "\t\telif num < 0: \n",
    "\t\t\tn.append(num)\n",
    "\t\telse:\n",
    "\t\t\tz.append(num)\n",
    "\n",
    "\t#2. Create a separate set for negatives and positives for O(1) look-up times\n",
    "\tN, P = set(n), set(p)\n",
    "\n",
    "\t#3. If there is at least 1 zero in the list, add all cases where -num exists in N and num exists in P\n",
    "\t#   i.e. (-3, 0, 3) = 0\n",
    "\tif z:\n",
    "\t\tfor num in P:\n",
    "\t\t\tif -1*num in N:\n",
    "\t\t\t\tres.add((-1*num, 0, num))\n",
    "\n",
    "\t#3. If there are at least 3 zeros in the list then also include (0, 0, 0) = 0\n",
    "\tif len(z) >= 3:\n",
    "\t\tres.add((0,0,0))\n",
    "\n",
    "\t#4. For all pairs of negative numbers (-3, -1), check to see if their complement (4)\n",
    "\t#   exists in the positive number set\n",
    "\tfor i in range(len(n)):\n",
    "\t\tfor j in range(i+1,len(n)):\n",
    "\t\t\ttarget = -1*(n[i]+n[j])\n",
    "\t\t\tif target in P:\n",
    "\t\t\t\tres.add(tuple(sorted([n[i],n[j],target])))\n",
    "\n",
    "\t#5. For all pairs of positive numbers (1, 1), check to see if their complement (-2)\n",
    "\t#   exists in the negative number set\n",
    "\tfor i in range(len(p)):\n",
    "\t\tfor j in range(i+1,len(p)):\n",
    "\t\t\ttarget = -1*(p[i]+p[j])\n",
    "\t\t\tif target in N:\n",
    "\t\t\t\tres.add(tuple(sorted([p[i],p[j],target])))\n",
    "\n",
    "\treturn res"
   ]
  }
 ],
 "metadata": {
  "kernelspec": {
   "display_name": "Python 3 (ipykernel)",
   "language": "python",
   "name": "python3"
  },
  "language_info": {
   "codemirror_mode": {
    "name": "ipython",
    "version": 3
   },
   "file_extension": ".py",
   "mimetype": "text/x-python",
   "name": "python",
   "nbconvert_exporter": "python",
   "pygments_lexer": "ipython3",
   "version": "3.9.7"
  }
 },
 "nbformat": 4,
 "nbformat_minor": 5
}
