{
 "cells": [
  {
   "cell_type": "code",
   "execution_count": null,
   "id": "d4071565",
   "metadata": {},
   "outputs": [],
   "source": [
    "# Definition for singly-linked list.\n",
    "# class ListNode:\n",
    "#     def __init__(self, x):\n",
    "#         self.val = x\n",
    "#         self.next = None\n",
    "\n",
    "class Solution:\n",
    "    def detectCycle(self, head: Optional[ListNode]) -> Optional[ListNode]:\n",
    "        fast = head\n",
    "        slow = head\n",
    "        while (fast and fast.next):\n",
    "            fast = fast.next.next\n",
    "            slow = slow.next\n",
    "            if (fast == slow):\n",
    "                slow = head\n",
    "                while (fast != slow):\n",
    "                    fast = fast.next\n",
    "                    slow = slow. next\n",
    "                return slow"
   ]
  }
 ],
 "metadata": {
  "kernelspec": {
   "display_name": "Python 3 (ipykernel)",
   "language": "python",
   "name": "python3"
  },
  "language_info": {
   "codemirror_mode": {
    "name": "ipython",
    "version": 3
   },
   "file_extension": ".py",
   "mimetype": "text/x-python",
   "name": "python",
   "nbconvert_exporter": "python",
   "pygments_lexer": "ipython3",
   "version": "3.9.7"
  }
 },
 "nbformat": 4,
 "nbformat_minor": 5
}
