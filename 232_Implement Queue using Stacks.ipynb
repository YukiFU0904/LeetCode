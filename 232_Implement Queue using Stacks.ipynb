{
 "cells": [
  {
   "cell_type": "code",
   "execution_count": null,
   "id": "293fd51b",
   "metadata": {},
   "outputs": [],
   "source": [
    "class MyQueue:\n",
    "\n",
    "    def __init__(self):\n",
    "        self.inStack = []\n",
    "\n",
    "    def push(self, x: int) -> None:\n",
    "        self.inStack.append(x)\n",
    "\n",
    "    def pop(self) -> int:\n",
    "        Stack = self.inStack\n",
    "        self.inStack = self.inStack[1:]\n",
    "        return Stack[0]\n",
    "        \n",
    "    def peek(self) -> int:\n",
    "        return self.inStack[0]\n",
    "\n",
    "    def empty(self) -> bool:\n",
    "        return self.inStack == []\n",
    "\n",
    "\n",
    "# Your MyQueue object will be instantiated and called as such:\n",
    "# obj = MyQueue()\n",
    "# obj.push(x)\n",
    "# param_2 = obj.pop()\n",
    "# param_3 = obj.peek()\n",
    "# param_4 = obj.empty()"
   ]
  },
  {
   "cell_type": "code",
   "execution_count": null,
   "id": "fad58a25",
   "metadata": {},
   "outputs": [],
   "source": [
    "class MyQueue:\n",
    "\n",
    "    def __init__(self):\n",
    "        self.inStack = []\n",
    "        self.outStack = []\n",
    "\n",
    "    def push(self, x: int) -> None:\n",
    "        self.inStack.append(x)\n",
    "\n",
    "    def pop(self) -> int:\n",
    "        self.peek()\n",
    "        return self.outStack.pop()\n",
    "        \n",
    "    def peek(self) -> int:\n",
    "        if not self.outStack:\n",
    "            while self.inStack:\n",
    "                self.outStack.append(self.inStack.pop())\n",
    "            return self.outStack[-1]\n",
    "\n",
    "    def empty(self) -> bool:\n",
    "        return self.inStack == [] and self.outStack == []\n",
    "\n",
    "\n",
    "# Your MyQueue object will be instantiated and called as such:\n",
    "# obj = MyQueue()\n",
    "# obj.push(x)\n",
    "# param_2 = obj.pop()\n",
    "# param_3 = obj.peek()\n",
    "# param_4 = obj.empty()"
   ]
  },
  {
   "cell_type": "code",
   "execution_count": null,
   "id": "f54b7ed0",
   "metadata": {},
   "outputs": [],
   "source": [
    "# Highest voted results on Leedcode\n",
    "class MyQueue(object):\n",
    "    def __init__(self):\n",
    "        self.in_stk = []\n",
    "        self.out_stk = []\n",
    "\t# Push element x to the back of queue...\n",
    "    def push(self, x):\n",
    "        self.in_stk.append(x)\n",
    "\t# Remove the element from the front of the queue and returns it...\n",
    "    def pop(self):\n",
    "        self.peek()\n",
    "        return self.out_stk.pop()\n",
    "\t# Get the front element...\n",
    "    def peek(self):\n",
    "        if not self.out_stk:\n",
    "            while self.in_stk:\n",
    "                self.out_stk.append(self.in_stk.pop())\n",
    "        return self.out_stk[-1]\n",
    "\t# Return whether the queue is empty...\n",
    "    def empty(self):\n",
    "        return not self.in_stk and not self.out_stk"
   ]
  }
 ],
 "metadata": {
  "kernelspec": {
   "display_name": "Python 3 (ipykernel)",
   "language": "python",
   "name": "python3"
  },
  "language_info": {
   "codemirror_mode": {
    "name": "ipython",
    "version": 3
   },
   "file_extension": ".py",
   "mimetype": "text/x-python",
   "name": "python",
   "nbconvert_exporter": "python",
   "pygments_lexer": "ipython3",
   "version": "3.9.7"
  }
 },
 "nbformat": 4,
 "nbformat_minor": 5
}
