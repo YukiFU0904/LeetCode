{
 "cells": [
  {
   "cell_type": "code",
   "execution_count": 3,
   "id": "6c899fb2",
   "metadata": {},
   "outputs": [],
   "source": [
    "class Solution:\n",
    "    def combine(self, n, k):\n",
    "        result = []\n",
    "        self.dfs(range(1,n+1), k, 0, [], result)\n",
    "        # 0 refers to the initial start point\n",
    "        # [] referst o an empty list to store the current combination being generated\n",
    "        # result is used to store the entire valid combinations generated\n",
    "        return result\n",
    "        \n",
    "    def dfs(self, nums, k, start, com, result):\n",
    "        # nums: list of numbers to consider when generating combinations\n",
    "        # start: start point, to keep track of which numbers have already been used in a combination\n",
    "        # com: to store current combinations\n",
    "        if k == 0:\n",
    "            # check if a valid combination has been generated\n",
    "            # if yes, append current combination to the final result list\n",
    "            result.append(com)\n",
    "            return\n",
    "            # if not, do recursion\n",
    "        for i in range(start, len(nums)):\n",
    "            self.dfs(nums, k-1, i+1, com+[nums[i]], result)\n",
    "            # k-1: next iter, already get 1 in the current combination, so reduced by 1\n",
    "            # i+1: start point moves to the next element in the list of numbers\n",
    "            # com + [nums[i]]: [com, nums[i]]"
   ]
  }
 ],
 "metadata": {
  "kernelspec": {
   "display_name": "Python 3 (ipykernel)",
   "language": "python",
   "name": "python3"
  },
  "language_info": {
   "codemirror_mode": {
    "name": "ipython",
    "version": 3
   },
   "file_extension": ".py",
   "mimetype": "text/x-python",
   "name": "python",
   "nbconvert_exporter": "python",
   "pygments_lexer": "ipython3",
   "version": "3.9.7"
  }
 },
 "nbformat": 4,
 "nbformat_minor": 5
}
