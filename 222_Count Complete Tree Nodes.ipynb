{
 "cells": [
  {
   "cell_type": "code",
   "execution_count": null,
   "id": "6fe6bda3",
   "metadata": {},
   "outputs": [],
   "source": [
    "# Definition for a binary tree node.\n",
    "# class TreeNode:\n",
    "#     def __init__(self, val=0, left=None, right=None):\n",
    "#         self.val = val\n",
    "#         self.left = left\n",
    "#         self.right = right\n",
    "class Solution:\n",
    "    def countNodes(self, root: Optional[TreeNode]) -> int:\n",
    "        if not root:\n",
    "            return 0\n",
    "        ld = self.leftdepth(root)\n",
    "        rd = self.rightdepth(root)\n",
    "        if ld == rd:\n",
    "            return 2**(ld + 1) - 1\n",
    "        else:\n",
    "            return 1 + self.countNodes(root.left) + self.countNodes(root.right)\n",
    "    \n",
    "    def leftdepth(self, root):\n",
    "        n = 0\n",
    "        curr = root\n",
    "        while curr.left:\n",
    "            n += 1\n",
    "            curr = curr.left\n",
    "        return n\n",
    "\n",
    "    def rightdepth(self, root):\n",
    "        n = 0\n",
    "        curr = root\n",
    "        while curr.right:\n",
    "            n += 1\n",
    "            curr = curr.right\n",
    "        return n"
   ]
  }
 ],
 "metadata": {
  "kernelspec": {
   "display_name": "Python 3 (ipykernel)",
   "language": "python",
   "name": "python3"
  },
  "language_info": {
   "codemirror_mode": {
    "name": "ipython",
    "version": 3
   },
   "file_extension": ".py",
   "mimetype": "text/x-python",
   "name": "python",
   "nbconvert_exporter": "python",
   "pygments_lexer": "ipython3",
   "version": "3.9.7"
  }
 },
 "nbformat": 4,
 "nbformat_minor": 5
}
